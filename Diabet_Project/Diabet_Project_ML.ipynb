{
 "cells": [
  {
   "cell_type": "markdown",
   "id": "3ad8f5b1-57d9-4bd6-ac33-f3a7605c3bf2",
   "metadata": {},
   "source": [
    "## Upload data"
   ]
  },
  {
   "cell_type": "code",
   "execution_count": 1,
   "id": "7df41c31-6d86-4f0f-bd5d-1dc620e575d6",
   "metadata": {},
   "outputs": [
    {
     "data": {
      "text/html": [
       "<div>\n",
       "<style scoped>\n",
       "    .dataframe tbody tr th:only-of-type {\n",
       "        vertical-align: middle;\n",
       "    }\n",
       "\n",
       "    .dataframe tbody tr th {\n",
       "        vertical-align: top;\n",
       "    }\n",
       "\n",
       "    .dataframe thead th {\n",
       "        text-align: right;\n",
       "    }\n",
       "</style>\n",
       "<table border=\"1\" class=\"dataframe\">\n",
       "  <thead>\n",
       "    <tr style=\"text-align: right;\">\n",
       "      <th></th>\n",
       "      <th>Pregnancies</th>\n",
       "      <th>Glucose</th>\n",
       "      <th>BloodPressure</th>\n",
       "      <th>SkinThickness</th>\n",
       "      <th>Insulin</th>\n",
       "      <th>BMI</th>\n",
       "      <th>DiabetesPedigreeFunction</th>\n",
       "      <th>Age</th>\n",
       "      <th>Outcome</th>\n",
       "    </tr>\n",
       "  </thead>\n",
       "  <tbody>\n",
       "    <tr>\n",
       "      <th>0</th>\n",
       "      <td>6</td>\n",
       "      <td>148</td>\n",
       "      <td>72</td>\n",
       "      <td>35</td>\n",
       "      <td>0</td>\n",
       "      <td>33.6</td>\n",
       "      <td>0.627</td>\n",
       "      <td>50</td>\n",
       "      <td>1</td>\n",
       "    </tr>\n",
       "    <tr>\n",
       "      <th>1</th>\n",
       "      <td>1</td>\n",
       "      <td>85</td>\n",
       "      <td>66</td>\n",
       "      <td>29</td>\n",
       "      <td>0</td>\n",
       "      <td>26.6</td>\n",
       "      <td>0.351</td>\n",
       "      <td>31</td>\n",
       "      <td>0</td>\n",
       "    </tr>\n",
       "    <tr>\n",
       "      <th>2</th>\n",
       "      <td>8</td>\n",
       "      <td>183</td>\n",
       "      <td>64</td>\n",
       "      <td>0</td>\n",
       "      <td>0</td>\n",
       "      <td>23.3</td>\n",
       "      <td>0.672</td>\n",
       "      <td>32</td>\n",
       "      <td>1</td>\n",
       "    </tr>\n",
       "    <tr>\n",
       "      <th>3</th>\n",
       "      <td>1</td>\n",
       "      <td>89</td>\n",
       "      <td>66</td>\n",
       "      <td>23</td>\n",
       "      <td>94</td>\n",
       "      <td>28.1</td>\n",
       "      <td>0.167</td>\n",
       "      <td>21</td>\n",
       "      <td>0</td>\n",
       "    </tr>\n",
       "    <tr>\n",
       "      <th>4</th>\n",
       "      <td>0</td>\n",
       "      <td>137</td>\n",
       "      <td>40</td>\n",
       "      <td>35</td>\n",
       "      <td>168</td>\n",
       "      <td>43.1</td>\n",
       "      <td>2.288</td>\n",
       "      <td>33</td>\n",
       "      <td>1</td>\n",
       "    </tr>\n",
       "  </tbody>\n",
       "</table>\n",
       "</div>"
      ],
      "text/plain": [
       "   Pregnancies  Glucose  BloodPressure  SkinThickness  Insulin   BMI  \\\n",
       "0            6      148             72             35        0  33.6   \n",
       "1            1       85             66             29        0  26.6   \n",
       "2            8      183             64              0        0  23.3   \n",
       "3            1       89             66             23       94  28.1   \n",
       "4            0      137             40             35      168  43.1   \n",
       "\n",
       "   DiabetesPedigreeFunction  Age  Outcome  \n",
       "0                     0.627   50        1  \n",
       "1                     0.351   31        0  \n",
       "2                     0.672   32        1  \n",
       "3                     0.167   21        0  \n",
       "4                     2.288   33        1  "
      ]
     },
     "execution_count": 1,
     "metadata": {},
     "output_type": "execute_result"
    }
   ],
   "source": [
    "import pandas as pd\n",
    "\n",
    "df = pd.read_csv('diabetes.csv')\n",
    "\n",
    "df.head()"
   ]
  },
  {
   "cell_type": "markdown",
   "id": "2c2dfd84-6603-4c56-a645-e764e29dfa3c",
   "metadata": {},
   "source": [
    "## Preprocessing"
   ]
  },
  {
   "cell_type": "code",
   "execution_count": 2,
   "id": "23b5cb54-5238-4c50-a032-ccd221c228d3",
   "metadata": {},
   "outputs": [
    {
     "name": "stdout",
     "output_type": "stream",
     "text": [
      "Shape of DataFrame: (541, 9)\n",
      "Labels: Outcome\n",
      "0    361\n",
      "1    180\n",
      "Name: count, dtype: int64\n"
     ]
    }
   ],
   "source": [
    "from sklearn.preprocessing import StandardScaler\n",
    "import numpy as np\n",
    "\n",
    "df = df[df['SkinThickness'] != 0]\n",
    "\n",
    "print('Shape of DataFrame:',df.shape)\n",
    "print('Labels:',df['Outcome'].value_counts())\n",
    "\n",
    "X = df.drop('Outcome', axis=1)\n",
    "y = df['Outcome']\n",
    "\n",
    "X = np.array(X)\n",
    "y = np.array(y)\n",
    "\n",
    "scaler = StandardScaler()\n",
    "X = scaler.fit_transform(X)"
   ]
  },
  {
   "cell_type": "markdown",
   "id": "54edf2dd-37b7-40ef-8ad2-f69005160ee5",
   "metadata": {},
   "source": [
    "## Spliting"
   ]
  },
  {
   "cell_type": "code",
   "execution_count": 3,
   "id": "cef8cf45-019e-4515-88cb-e2503fd44920",
   "metadata": {},
   "outputs": [
    {
     "name": "stdout",
     "output_type": "stream",
     "text": [
      "(109, 8) (432, 8)\n"
     ]
    }
   ],
   "source": [
    "from sklearn.model_selection import train_test_split\n",
    "\n",
    "X_train, X_test, y_train, y_test = train_test_split(X, y, test_size=0.2)\n",
    "\n",
    "print(X_test.shape, X_train.shape)"
   ]
  },
  {
   "cell_type": "markdown",
   "id": "39173ef0-7859-4a0f-93db-b320600ff7fb",
   "metadata": {},
   "source": [
    "## Calculate Metrics Function"
   ]
  },
  {
   "cell_type": "code",
   "execution_count": 4,
   "id": "5ab141f5-6aec-4600-95e7-6b795cda267e",
   "metadata": {},
   "outputs": [],
   "source": [
    "from sklearn.metrics import accuracy_score, precision_score, recall_score\n",
    "\n",
    "def calculate_metrics(y_train, y_test, y_pred_train, y_pred_test):\n",
    "    \n",
    "    acc_train = accuracy_score(y_true=y_train, y_pred=y_pred_train)\n",
    "    acc_test = accuracy_score(y_true=y_test, y_pred=y_pred_test)\n",
    "\n",
    "    p = precision_score(y_true=y_test, y_pred=y_pred_test)\n",
    "    \n",
    "    r = recall_score(y_true=y_test, y_pred=y_pred_test)\n",
    "\n",
    "    print(f'acc train:{acc_train} , acc test:{acc_test}')\n",
    "    print(f'precision:{p}')\n",
    "    print(f'recall:{r}')\n",
    "\n",
    "    return acc_train, acc_test, p, r"
   ]
  },
  {
   "cell_type": "markdown",
   "id": "274f368b-243c-44ef-b3e2-328b75fb79d0",
   "metadata": {},
   "source": [
    "## Models"
   ]
  },
  {
   "cell_type": "markdown",
   "id": "373cff11-3278-4e5d-abae-d0cbea13ede2",
   "metadata": {},
   "source": [
    "#### 1.Nave Bayes"
   ]
  },
  {
   "cell_type": "code",
   "execution_count": 5,
   "id": "c5dbccb0-21b6-4e49-970a-ef979f541fb9",
   "metadata": {},
   "outputs": [
    {
     "name": "stdout",
     "output_type": "stream",
     "text": [
      "acc train:0.7685185185185185 , acc test:0.7339449541284404\n",
      "precision:0.47368421052631576\n",
      "recall:0.6666666666666666\n"
     ]
    }
   ],
   "source": [
    "from sklearn.naive_bayes import GaussianNB\n",
    "\n",
    "gnb = GaussianNB()\n",
    "gnb.fit(X_train, y_train)\n",
    "\n",
    "y_pred_train = gnb.predict(X_train)\n",
    "y_pred_test = gnb.predict(X_test)\n",
    "\n",
    "acc_train_gnb, acc_test_gnb, p_gnb, r_gnb = calculate_metrics(y_train, y_test, y_pred_train, y_pred_test)"
   ]
  },
  {
   "cell_type": "markdown",
   "id": "5a59f389-655b-47f3-9d71-8c9ef05faa8b",
   "metadata": {},
   "source": [
    "#### 2.KNN"
   ]
  },
  {
   "cell_type": "code",
   "execution_count": 6,
   "id": "c3dc698d-9f4b-4fa5-a653-d79a8d1397f7",
   "metadata": {},
   "outputs": [
    {
     "name": "stdout",
     "output_type": "stream",
     "text": [
      "acc train:0.8518518518518519 , acc test:0.7889908256880734\n",
      "precision:0.5625\n",
      "recall:0.6666666666666666\n"
     ]
    }
   ],
   "source": [
    "from sklearn.neighbors import KNeighborsClassifier\n",
    "\n",
    "knn = KNeighborsClassifier(n_neighbors=3)\n",
    "knn.fit(X_train, y_train)\n",
    "\n",
    "y_pred_train = knn.predict(X_train)\n",
    "y_pred_test = knn.predict(X_test)\n",
    "\n",
    "acc_train_knn, acc_test_knn, p_knn, r_knn = calculate_metrics(y_train, y_test, y_pred_train, y_pred_test)"
   ]
  },
  {
   "cell_type": "markdown",
   "id": "6c7e22b9-0254-4a6f-912a-6ae7f1228ca2",
   "metadata": {},
   "source": [
    "#### 3. Decision Tress"
   ]
  },
  {
   "cell_type": "code",
   "execution_count": 7,
   "id": "0d95ec63-49db-487a-b7d8-20a9ab377d91",
   "metadata": {},
   "outputs": [
    {
     "name": "stdout",
     "output_type": "stream",
     "text": [
      "acc train:0.8333333333333334 , acc test:0.7981651376146789\n",
      "precision:0.5925925925925926\n",
      "recall:0.5925925925925926\n"
     ]
    }
   ],
   "source": [
    "from sklearn.tree import DecisionTreeClassifier\n",
    "\n",
    "dt = DecisionTreeClassifier(max_depth=4, min_samples_leaf=9)\n",
    "dt.fit(X_train, y_train)\n",
    "\n",
    "y_pred_train = dt.predict(X_train)\n",
    "y_pred_test = dt.predict(X_test)\n",
    "\n",
    "acc_train_dt, acc_test_dt, p_dt, r_dt = calculate_metrics(y_train, y_test, y_pred_train, y_pred_test)"
   ]
  },
  {
   "cell_type": "markdown",
   "id": "71847878-d855-4a8c-8281-587b3bcc69ca",
   "metadata": {},
   "source": [
    "#### 4. Random Forest"
   ]
  },
  {
   "cell_type": "code",
   "execution_count": 8,
   "id": "494f5c8b-3e9f-4937-a15b-b4bae23008c1",
   "metadata": {},
   "outputs": [
    {
     "name": "stdout",
     "output_type": "stream",
     "text": [
      "acc train:0.9814814814814815 , acc test:0.8165137614678899\n",
      "precision:0.64\n",
      "recall:0.5925925925925926\n"
     ]
    }
   ],
   "source": [
    "from sklearn.ensemble import RandomForestClassifier\n",
    "\n",
    "rf = RandomForestClassifier(n_estimators=100, max_depth=8)\n",
    "rf.fit(X_train, y_train)\n",
    "\n",
    "y_pred_train = rf.predict(X_train)\n",
    "y_pred_test = rf.predict(X_test)\n",
    "\n",
    "acc_train_rf, acc_test_rf, p_rf, r_rf = calculate_metrics(y_train, y_test, y_pred_train, y_pred_test)"
   ]
  },
  {
   "cell_type": "markdown",
   "id": "508600b1-ba65-47a7-93c5-d5cfb61b372d",
   "metadata": {},
   "source": [
    "#### 5. SVM"
   ]
  },
  {
   "cell_type": "code",
   "execution_count": 9,
   "id": "439a190f-5d52-487e-b355-416616687fc7",
   "metadata": {},
   "outputs": [
    {
     "name": "stdout",
     "output_type": "stream",
     "text": [
      "acc train:0.8495370370370371 , acc test:0.7614678899082569\n",
      "precision:0.5161290322580645\n",
      "recall:0.5925925925925926\n"
     ]
    }
   ],
   "source": [
    "from sklearn.svm import SVC\n",
    "\n",
    "svm = SVC()\n",
    "svm.fit(X_train, y_train)\n",
    "\n",
    "y_pred_train = svm.predict(X_train)\n",
    "y_pred_test = svm.predict(X_test)\n",
    "\n",
    "acc_train_svm, acc_test_svm, p_svm, r_svm = calculate_metrics(y_train, y_test, y_pred_train, y_pred_test)"
   ]
  },
  {
   "cell_type": "markdown",
   "id": "28fecb5c-3804-4bbf-9a24-9e3bcce0357e",
   "metadata": {},
   "source": [
    "#### 6. Logistic Regression"
   ]
  },
  {
   "cell_type": "code",
   "execution_count": 10,
   "id": "b6c96662-c97d-4965-801f-3f5903157912",
   "metadata": {},
   "outputs": [
    {
     "name": "stdout",
     "output_type": "stream",
     "text": [
      "acc train:0.7870370370370371 , acc test:0.7614678899082569\n",
      "precision:0.5185185185185185\n",
      "recall:0.5185185185185185\n"
     ]
    }
   ],
   "source": [
    "from sklearn.linear_model import LogisticRegression\n",
    "\n",
    "lg = LogisticRegression()\n",
    "lg.fit(X_train, y_train)\n",
    "\n",
    "y_pred_train = lg.predict(X_train)\n",
    "y_pred_test = lg.predict(X_test)\n",
    "\n",
    "acc_train_lg, acc_test_lg, p_lg, r_lg = calculate_metrics(y_train, y_test, y_pred_train, y_pred_test)"
   ]
  },
  {
   "cell_type": "markdown",
   "id": "3b954956-b8e8-42a4-8db4-07a231cb69d1",
   "metadata": {},
   "source": [
    "#### 7. ANN"
   ]
  },
  {
   "cell_type": "code",
   "execution_count": 11,
   "id": "92613e30-a5be-4a1e-a308-6e85be386269",
   "metadata": {},
   "outputs": [
    {
     "name": "stdout",
     "output_type": "stream",
     "text": [
      "acc train:0.8402777777777778 , acc test:0.7522935779816514\n",
      "precision:0.5\n",
      "recall:0.5185185185185185\n"
     ]
    },
    {
     "name": "stderr",
     "output_type": "stream",
     "text": [
      "C:\\Users\\lenovo\\miniconda3\\envs\\numpy_course\\Lib\\site-packages\\sklearn\\neural_network\\_multilayer_perceptron.py:781: ConvergenceWarning: Stochastic Optimizer: Maximum iterations (200) reached and the optimization hasn't converged yet.\n",
      "  warnings.warn(\n"
     ]
    }
   ],
   "source": [
    "from sklearn.neural_network import MLPClassifier\n",
    "\n",
    "ann = MLPClassifier(hidden_layer_sizes=256)\n",
    "ann.fit(X_train, y_train)\n",
    "\n",
    "y_pred_train = ann.predict(X_train)\n",
    "y_pred_test = ann.predict(X_test)\n",
    "\n",
    "acc_train_ann, acc_test_ann, p_ann, r_ann = calculate_metrics(y_train, y_test, y_pred_train, y_pred_test)"
   ]
  },
  {
   "cell_type": "markdown",
   "id": "bcf36904-e7f1-44eb-b90d-4a3e6accfe3e",
   "metadata": {},
   "source": [
    "#### 8. AdaBoost"
   ]
  },
  {
   "cell_type": "code",
   "execution_count": 12,
   "id": "170440b4-a66d-4f00-b1b4-d17923aaa2d6",
   "metadata": {},
   "outputs": [
    {
     "name": "stdout",
     "output_type": "stream",
     "text": [
      "acc train:0.7916666666666666 , acc test:0.8165137614678899\n",
      "precision:0.6521739130434783\n",
      "recall:0.5555555555555556\n"
     ]
    }
   ],
   "source": [
    "from sklearn.ensemble import AdaBoostClassifier\n",
    "\n",
    "ab = AdaBoostClassifier(n_estimators=100, learning_rate=0.1)\n",
    "ab.fit(X_train, y_train)\n",
    "\n",
    "y_pred_train = ab.predict(X_train)\n",
    "y_pred_test = ab.predict(X_test)\n",
    "\n",
    "acc_train_ab, acc_test_ab, p_ab, r_ab = calculate_metrics(y_train, y_test, y_pred_train, y_pred_test)"
   ]
  },
  {
   "cell_type": "markdown",
   "id": "1c21edb0-45c7-45f2-9f08-fe5e6f796d86",
   "metadata": {},
   "source": [
    "#### 9. Gradient Boosting"
   ]
  },
  {
   "cell_type": "code",
   "execution_count": 13,
   "id": "455be820-af83-4706-b5d9-b8e04fb4f853",
   "metadata": {},
   "outputs": [
    {
     "name": "stdout",
     "output_type": "stream",
     "text": [
      "acc train:0.9375 , acc test:0.7889908256880734\n",
      "precision:0.5666666666666667\n",
      "recall:0.6296296296296297\n"
     ]
    }
   ],
   "source": [
    "from sklearn.ensemble import GradientBoostingClassifier\n",
    "\n",
    "gb = GradientBoostingClassifier(n_estimators=100, subsample=0.3)\n",
    "gb.fit(X_train, y_train)\n",
    "\n",
    "y_pred_train = gb.predict(X_train)\n",
    "y_pred_test = gb.predict(X_test)\n",
    "\n",
    "acc_train_gb, acc_test_gb, p_gb, r_gb = calculate_metrics(y_train, y_test, y_pred_train, y_pred_test)"
   ]
  },
  {
   "cell_type": "markdown",
   "id": "599df670-23e7-471a-9244-a884d6b1777e",
   "metadata": {},
   "source": [
    "#### 10. XGBoost"
   ]
  },
  {
   "cell_type": "code",
   "execution_count": 14,
   "id": "cea56065-c02c-46a1-a708-dd6e4aa0b3ba",
   "metadata": {},
   "outputs": [
    {
     "name": "stdout",
     "output_type": "stream",
     "text": [
      "acc train:0.8541666666666666 , acc test:0.8165137614678899\n",
      "precision:0.6521739130434783\n",
      "recall:0.5555555555555556\n"
     ]
    },
    {
     "name": "stderr",
     "output_type": "stream",
     "text": [
      "C:\\Users\\lenovo\\miniconda3\\envs\\numpy_course\\Lib\\site-packages\\xgboost\\training.py:183: UserWarning: [21:44:04] WARNING: D:\\bld\\xgboost-split_1755048450370\\work\\src\\learner.cc:738: \n",
      "Parameters: { \"random_rate\" } are not used.\n",
      "\n",
      "  bst.update(dtrain, iteration=i, fobj=obj)\n"
     ]
    }
   ],
   "source": [
    "import xgboost as xgb\n",
    "\n",
    "xgb = xgb.XGBClassifier(n_estimators=80, learning_rate=0.1, max_depth=2, random_rate=42)\n",
    "xgb.fit(X_train, y_train)\n",
    "\n",
    "y_pred_train = xgb.predict(X_train)\n",
    "y_pred_test = xgb.predict(X_test)\n",
    "\n",
    "acc_train_xgb, acc_test_xgb, p_xgb, r_xgb = calculate_metrics(y_train, y_test, y_pred_train, y_pred_test)"
   ]
  },
  {
   "cell_type": "markdown",
   "id": "a65f10ce-7c15-4c02-a38d-d4fd25e2e450",
   "metadata": {},
   "source": [
    "## Conclusion"
   ]
  },
  {
   "cell_type": "code",
   "execution_count": 15,
   "id": "25a894a4-222b-4673-9f59-7b814660f924",
   "metadata": {},
   "outputs": [
    {
     "data": {
      "image/png": "[encoded data removed]",
      "text/plain": [
       "<Figure size 640x480 with 1 Axes>"
      ]
     },
     "metadata": {},
     "output_type": "display_data"
    }
   ],
   "source": [
    "import matplotlib.pyplot as plt\n",
    "\n",
    "recall_result = [r_ab ,r_ann, r_dt, r_gb, r_gnb, r_knn, r_lg, r_rf, r_svm, r_xgb]\n",
    "\n",
    "colors = ['blue', 'black', 'yellow', 'orange', 'red', 'green', 'brown', 'pink', 'teal', 'purple']\n",
    "title = ['AB', 'ANN', 'DT', 'GB', 'GNB', 'KNN', 'LG', 'RF', 'SVM', 'XGB']\n",
    "\n",
    "plt.bar(title, recall_result, color=colors)\n",
    "plt.title('Recall Result')\n",
    "plt.grid()\n",
    "plt.show()"
   ]
  },
  {
   "cell_type": "code",
   "execution_count": 17,
   "id": "221d29bc-5413-4505-af24-4b5ed8801072",
   "metadata": {},
   "outputs": [
    {
     "data": {
      "image/png": "[encoded data removed]",
      "text/plain": [
       "<Figure size 640x480 with 1 Axes>"
      ]
     },
     "metadata": {},
     "output_type": "display_data"
    }
   ],
   "source": [
    "recall_result = [acc_train_ab ,acc_train_ann, acc_train_dt, acc_train_gb, r_gnb, acc_train_knn, acc_train_lg, acc_train_rf, acc_train_svm, acc_train_xgb]\n",
    "\n",
    "colors = ['blue', 'black', 'yellow', 'orange', 'red', 'green', 'brown', 'pink', 'teal', 'purple']\n",
    "title = ['AB', 'ANN', 'DT', 'GB', 'GNB', 'KNN', 'LG', 'RF', 'SVM', 'XGB']\n",
    "\n",
    "plt.bar(title, recall_result, color=colors)\n",
    "plt.title('Train Result')\n",
    "plt.grid()\n",
    "plt.show()"
   ]
  },
  {
   "cell_type": "code",
   "execution_count": 18,
   "id": "3aba33ad-8707-48ca-9b1b-55bb8b2c8eae",
   "metadata": {},
   "outputs": [
    {
     "data": {
      "image/png": "[encoded data removed]",
      "text/plain": [
       "<Figure size 640x480 with 1 Axes>"
      ]
     },
     "metadata": {},
     "output_type": "display_data"
    }
   ],
   "source": [
    "recall_result = [acc_test_ab ,acc_test_ann, acc_test_dt, acc_test_gb, acc_test_gnb, acc_test_knn, acc_test_lg, acc_test_rf, acc_test_svm, acc_test_xgb]\n",
    "\n",
    "colors = ['blue', 'black', 'yellow', 'orange', 'red', 'green', 'brown', 'pink', 'teal', 'purple']\n",
    "title = ['AB', 'ANN', 'DT', 'GB', 'GNB', 'KNN', 'LG', 'RF', 'SVM', 'XGB']\n",
    "\n",
    "plt.bar(title, recall_result, color=colors)\n",
    "plt.title('Test Result')\n",
    "plt.grid()\n",
    "plt.show()"
   ]
  },
  {
   "cell_type": "code",
   "execution_count": 20,
   "id": "1e2c5514-6e54-47dd-a1cb-6ee3a537f1af",
   "metadata": {},
   "outputs": [
    {
     "data": {
      "image/png": "[encoded data removed]",
      "text/plain": [
       "<Figure size 640x480 with 1 Axes>"
      ]
     },
     "metadata": {},
     "output_type": "display_data"
    }
   ],
   "source": [
    "recall_result = [p_ab ,p_ann, p_dt, p_gb, p_gnb, p_knn, p_lg, p_rf, p_svm, p_xgb]\n",
    "\n",
    "colors = ['blue', 'black', 'yellow', 'orange', 'red', 'green', 'brown', 'pink', 'teal', 'purple']\n",
    "title = ['AB', 'ANN', 'DT', 'GB', 'GNB', 'KNN', 'LG', 'RF', 'SVM', 'XGB']\n",
    "\n",
    "plt.bar(title, recall_result, color=colors)\n",
    "plt.title('Percision Result')\n",
    "plt.grid()\n",
    "plt.show()"
   ]
  },
  {
   "cell_type": "code",
   "execution_count": null,
   "id": "5c39df06-3272-4698-a086-55a39cb29e15",
   "metadata": {},
   "outputs": [],
   "source": []
  }
 ],
 "metadata": {
  "kernelspec": {
   "display_name": "Python 3 (ipykernel)",
   "language": "python",
   "name": "python3"
  },
  "language_info": {
   "codemirror_mode": {
    "name": "ipython",
    "version": 3
   },
   "file_extension": ".py",
   "mimetype": "text/x-python",
   "name": "python",
   "nbconvert_exporter": "python",
   "pygments_lexer": "ipython3",
   "version": "3.13.5"
  }
 },
 "nbformat": 4,
 "nbformat_minor": 5
}
