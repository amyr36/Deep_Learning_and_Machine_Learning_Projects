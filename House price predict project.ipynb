{
 "cells": [
  {
   "cell_type": "markdown",
   "id": "20cdf921-d4cb-465a-b3aa-f82a9bd7ca00",
   "metadata": {},
   "source": [
    "# Import Liberaries"
   ]
  },
  {
   "cell_type": "code",
   "execution_count": 24,
   "id": "610f8b3a-81a9-4e54-88bd-4cc97bef3dec",
   "metadata": {},
   "outputs": [],
   "source": [
    "import pandas as pd\n",
    "import matplotlib.pyplot as plt\n",
    "from sklearn.preprocessing import OneHotEncoder\n",
    "from sklearn.metrics import mean_absolute_error, mean_absolute_percentage_error\n",
    "from sklearn.model_selection import train_test_split\n",
    "from sklearn.ensemble import RandomForestRegressor\n",
    "from sklearn.linear_model import LinearRegression"
   ]
  },
  {
   "cell_type": "markdown",
   "id": "8c436828-4e0a-4cfc-b402-7decef3f581d",
   "metadata": {},
   "source": [
    "# Upload Data"
   ]
  },
  {
   "cell_type": "code",
   "execution_count": 2,
   "id": "16e8ffd0-b4d9-4a59-afcf-42769f7431f3",
   "metadata": {},
   "outputs": [
    {
     "data": {
      "text/html": [
       "<div>\n",
       "<style scoped>\n",
       "    .dataframe tbody tr th:only-of-type {\n",
       "        vertical-align: middle;\n",
       "    }\n",
       "\n",
       "    .dataframe tbody tr th {\n",
       "        vertical-align: top;\n",
       "    }\n",
       "\n",
       "    .dataframe thead th {\n",
       "        text-align: right;\n",
       "    }\n",
       "</style>\n",
       "<table border=\"1\" class=\"dataframe\">\n",
       "  <thead>\n",
       "    <tr style=\"text-align: right;\">\n",
       "      <th></th>\n",
       "      <th>Id</th>\n",
       "      <th>MSSubClass</th>\n",
       "      <th>MSZoning</th>\n",
       "      <th>LotArea</th>\n",
       "      <th>LotConfig</th>\n",
       "      <th>BldgType</th>\n",
       "      <th>OverallCond</th>\n",
       "      <th>YearBuilt</th>\n",
       "      <th>YearRemodAdd</th>\n",
       "      <th>Exterior1st</th>\n",
       "      <th>BsmtFinSF2</th>\n",
       "      <th>TotalBsmtSF</th>\n",
       "      <th>SalePrice</th>\n",
       "    </tr>\n",
       "  </thead>\n",
       "  <tbody>\n",
       "    <tr>\n",
       "      <th>0</th>\n",
       "      <td>0</td>\n",
       "      <td>60</td>\n",
       "      <td>RL</td>\n",
       "      <td>8450</td>\n",
       "      <td>Inside</td>\n",
       "      <td>1Fam</td>\n",
       "      <td>5</td>\n",
       "      <td>2003</td>\n",
       "      <td>2003</td>\n",
       "      <td>VinylSd</td>\n",
       "      <td>0.0</td>\n",
       "      <td>856.0</td>\n",
       "      <td>208500.0</td>\n",
       "    </tr>\n",
       "    <tr>\n",
       "      <th>1</th>\n",
       "      <td>1</td>\n",
       "      <td>20</td>\n",
       "      <td>RL</td>\n",
       "      <td>9600</td>\n",
       "      <td>FR2</td>\n",
       "      <td>1Fam</td>\n",
       "      <td>8</td>\n",
       "      <td>1976</td>\n",
       "      <td>1976</td>\n",
       "      <td>MetalSd</td>\n",
       "      <td>0.0</td>\n",
       "      <td>1262.0</td>\n",
       "      <td>181500.0</td>\n",
       "    </tr>\n",
       "    <tr>\n",
       "      <th>2</th>\n",
       "      <td>2</td>\n",
       "      <td>60</td>\n",
       "      <td>RL</td>\n",
       "      <td>11250</td>\n",
       "      <td>Inside</td>\n",
       "      <td>1Fam</td>\n",
       "      <td>5</td>\n",
       "      <td>2001</td>\n",
       "      <td>2002</td>\n",
       "      <td>VinylSd</td>\n",
       "      <td>0.0</td>\n",
       "      <td>920.0</td>\n",
       "      <td>223500.0</td>\n",
       "    </tr>\n",
       "    <tr>\n",
       "      <th>3</th>\n",
       "      <td>3</td>\n",
       "      <td>70</td>\n",
       "      <td>RL</td>\n",
       "      <td>9550</td>\n",
       "      <td>Corner</td>\n",
       "      <td>1Fam</td>\n",
       "      <td>5</td>\n",
       "      <td>1915</td>\n",
       "      <td>1970</td>\n",
       "      <td>Wd Sdng</td>\n",
       "      <td>0.0</td>\n",
       "      <td>756.0</td>\n",
       "      <td>140000.0</td>\n",
       "    </tr>\n",
       "    <tr>\n",
       "      <th>4</th>\n",
       "      <td>4</td>\n",
       "      <td>60</td>\n",
       "      <td>RL</td>\n",
       "      <td>14260</td>\n",
       "      <td>FR2</td>\n",
       "      <td>1Fam</td>\n",
       "      <td>5</td>\n",
       "      <td>2000</td>\n",
       "      <td>2000</td>\n",
       "      <td>VinylSd</td>\n",
       "      <td>0.0</td>\n",
       "      <td>1145.0</td>\n",
       "      <td>250000.0</td>\n",
       "    </tr>\n",
       "    <tr>\n",
       "      <th>...</th>\n",
       "      <td>...</td>\n",
       "      <td>...</td>\n",
       "      <td>...</td>\n",
       "      <td>...</td>\n",
       "      <td>...</td>\n",
       "      <td>...</td>\n",
       "      <td>...</td>\n",
       "      <td>...</td>\n",
       "      <td>...</td>\n",
       "      <td>...</td>\n",
       "      <td>...</td>\n",
       "      <td>...</td>\n",
       "      <td>...</td>\n",
       "    </tr>\n",
       "    <tr>\n",
       "      <th>2914</th>\n",
       "      <td>2914</td>\n",
       "      <td>160</td>\n",
       "      <td>RM</td>\n",
       "      <td>1936</td>\n",
       "      <td>Inside</td>\n",
       "      <td>Twnhs</td>\n",
       "      <td>7</td>\n",
       "      <td>1970</td>\n",
       "      <td>1970</td>\n",
       "      <td>CemntBd</td>\n",
       "      <td>0.0</td>\n",
       "      <td>546.0</td>\n",
       "      <td>NaN</td>\n",
       "    </tr>\n",
       "    <tr>\n",
       "      <th>2915</th>\n",
       "      <td>2915</td>\n",
       "      <td>160</td>\n",
       "      <td>RM</td>\n",
       "      <td>1894</td>\n",
       "      <td>Inside</td>\n",
       "      <td>TwnhsE</td>\n",
       "      <td>5</td>\n",
       "      <td>1970</td>\n",
       "      <td>1970</td>\n",
       "      <td>CemntBd</td>\n",
       "      <td>0.0</td>\n",
       "      <td>546.0</td>\n",
       "      <td>NaN</td>\n",
       "    </tr>\n",
       "    <tr>\n",
       "      <th>2916</th>\n",
       "      <td>2916</td>\n",
       "      <td>20</td>\n",
       "      <td>RL</td>\n",
       "      <td>20000</td>\n",
       "      <td>Inside</td>\n",
       "      <td>1Fam</td>\n",
       "      <td>7</td>\n",
       "      <td>1960</td>\n",
       "      <td>1996</td>\n",
       "      <td>VinylSd</td>\n",
       "      <td>0.0</td>\n",
       "      <td>1224.0</td>\n",
       "      <td>NaN</td>\n",
       "    </tr>\n",
       "    <tr>\n",
       "      <th>2917</th>\n",
       "      <td>2917</td>\n",
       "      <td>85</td>\n",
       "      <td>RL</td>\n",
       "      <td>10441</td>\n",
       "      <td>Inside</td>\n",
       "      <td>1Fam</td>\n",
       "      <td>5</td>\n",
       "      <td>1992</td>\n",
       "      <td>1992</td>\n",
       "      <td>HdBoard</td>\n",
       "      <td>0.0</td>\n",
       "      <td>912.0</td>\n",
       "      <td>NaN</td>\n",
       "    </tr>\n",
       "    <tr>\n",
       "      <th>2918</th>\n",
       "      <td>2918</td>\n",
       "      <td>60</td>\n",
       "      <td>RL</td>\n",
       "      <td>9627</td>\n",
       "      <td>Inside</td>\n",
       "      <td>1Fam</td>\n",
       "      <td>5</td>\n",
       "      <td>1993</td>\n",
       "      <td>1994</td>\n",
       "      <td>HdBoard</td>\n",
       "      <td>0.0</td>\n",
       "      <td>996.0</td>\n",
       "      <td>NaN</td>\n",
       "    </tr>\n",
       "  </tbody>\n",
       "</table>\n",
       "<p>2919 rows × 13 columns</p>\n",
       "</div>"
      ],
      "text/plain": [
       "        Id  MSSubClass MSZoning  LotArea LotConfig BldgType  OverallCond  \\\n",
       "0        0          60       RL     8450    Inside     1Fam            5   \n",
       "1        1          20       RL     9600       FR2     1Fam            8   \n",
       "2        2          60       RL    11250    Inside     1Fam            5   \n",
       "3        3          70       RL     9550    Corner     1Fam            5   \n",
       "4        4          60       RL    14260       FR2     1Fam            5   \n",
       "...    ...         ...      ...      ...       ...      ...          ...   \n",
       "2914  2914         160       RM     1936    Inside    Twnhs            7   \n",
       "2915  2915         160       RM     1894    Inside   TwnhsE            5   \n",
       "2916  2916          20       RL    20000    Inside     1Fam            7   \n",
       "2917  2917          85       RL    10441    Inside     1Fam            5   \n",
       "2918  2918          60       RL     9627    Inside     1Fam            5   \n",
       "\n",
       "      YearBuilt  YearRemodAdd Exterior1st  BsmtFinSF2  TotalBsmtSF  SalePrice  \n",
       "0          2003          2003     VinylSd         0.0        856.0   208500.0  \n",
       "1          1976          1976     MetalSd         0.0       1262.0   181500.0  \n",
       "2          2001          2002     VinylSd         0.0        920.0   223500.0  \n",
       "3          1915          1970     Wd Sdng         0.0        756.0   140000.0  \n",
       "4          2000          2000     VinylSd         0.0       1145.0   250000.0  \n",
       "...         ...           ...         ...         ...          ...        ...  \n",
       "2914       1970          1970     CemntBd         0.0        546.0        NaN  \n",
       "2915       1970          1970     CemntBd         0.0        546.0        NaN  \n",
       "2916       1960          1996     VinylSd         0.0       1224.0        NaN  \n",
       "2917       1992          1992     HdBoard         0.0        912.0        NaN  \n",
       "2918       1993          1994     HdBoard         0.0        996.0        NaN  \n",
       "\n",
       "[2919 rows x 13 columns]"
      ]
     },
     "execution_count": 2,
     "metadata": {},
     "output_type": "execute_result"
    }
   ],
   "source": [
    "df = pd.read_excel(\"HousePricePrediction.xlsx\")\n",
    "df"
   ]
  },
  {
   "cell_type": "markdown",
   "id": "3fa084b7-7965-4904-bb82-296173b680bd",
   "metadata": {},
   "source": [
    "# Preprocessing"
   ]
  },
  {
   "cell_type": "code",
   "execution_count": 3,
   "id": "b5bb5b5f-4920-4767-9c68-569cb0b5bb6a",
   "metadata": {},
   "outputs": [
    {
     "name": "stdout",
     "output_type": "stream",
     "text": [
      "Categorical variables: 4\n",
      "Float variables: 3\n",
      "Intiger variables: 6\n"
     ]
    }
   ],
   "source": [
    "obj = (df.dtypes == 'object')\n",
    "object_cols = list(obj[obj].index)\n",
    "print('Categorical variables:',len(object_cols))\n",
    "\n",
    "f = (df.dtypes == 'float')\n",
    "float_cols = list(f[f].index)\n",
    "print('Float variables:',len(float_cols))\n",
    "\n",
    "int_ = (df.dtypes == 'int')\n",
    "num_cols = list(int_[int_].index)\n",
    "print('Intiger variables:',len(num_cols))\n"
   ]
  },
  {
   "cell_type": "code",
   "execution_count": 4,
   "id": "b330eb12-82eb-4c1d-becb-d0add636ce4d",
   "metadata": {},
   "outputs": [
    {
     "data": {
      "text/plain": [
       "<BarContainer object of 4 artists>"
      ]
     },
     "execution_count": 4,
     "metadata": {},
     "output_type": "execute_result"
    },
    {
     "data": {
      "image/png": "[encoded data removed]",
      "text/plain": [
       "<Figure size 640x480 with 1 Axes>"
      ]
     },
     "metadata": {},
     "output_type": "display_data"
    }
   ],
   "source": [
    "unique_values = []\n",
    "\n",
    "for col in object_cols:\n",
    "    unique_values.append(df[col].unique().size)\n",
    "plt.bar(object_cols, unique_values)"
   ]
  },
  {
   "cell_type": "code",
   "execution_count": 9,
   "id": "677a3cf2-57c3-4187-8e33-bfd20de1bafc",
   "metadata": {},
   "outputs": [
    {
     "data": {
      "text/plain": [
       "Id              0\n",
       "MSSubClass      0\n",
       "MSZoning        0\n",
       "LotArea         0\n",
       "LotConfig       0\n",
       "BldgType        0\n",
       "OverallCond     0\n",
       "YearBuilt       0\n",
       "YearRemodAdd    0\n",
       "Exterior1st     0\n",
       "BsmtFinSF2      0\n",
       "TotalBsmtSF     0\n",
       "SalePrice       0\n",
       "dtype: int64"
      ]
     },
     "execution_count": 9,
     "metadata": {},
     "output_type": "execute_result"
    }
   ],
   "source": [
    "df.drop(['Id'], axis=1)\n",
    "df.dropna(inplace=True)\n",
    "df.isnull().sum()"
   ]
  },
  {
   "cell_type": "code",
   "execution_count": 12,
   "id": "14819546-e017-4bca-9b1f-40adb91994ba",
   "metadata": {},
   "outputs": [],
   "source": [
    "OH_encoder = OneHotEncoder(sparse_output=False, handle_unknown='ignore')\n",
    "OH_cols = pd.DataFrame(OH_encoder.fit_transform(df[object_cols]))\n",
    "OH_cols.index = df.index\n",
    "OH_cols.columns = OH_encoder.get_feature_names_out()\n",
    "df_final = df.drop(object_cols, axis=1)\n",
    "df_final = pd.concat([df_final, OH_cols], axis=1)"
   ]
  },
  {
   "cell_type": "code",
   "execution_count": 21,
   "id": "0000e6cc-41fb-4859-917b-d426e73b7dfb",
   "metadata": {},
   "outputs": [],
   "source": [
    "X = df_final.drop(['SalePrice'], axis=1)\n",
    "Y = df_final['SalePrice']\n",
    "\n",
    "X_train, X_valid, Y_train, Y_valid = train_test_split(\n",
    "    X, Y, train_size=0.8, test_size=0.2, random_state=0)"
   ]
  },
  {
   "cell_type": "markdown",
   "id": "98333909-00c3-4e19-8658-e0b53485c96b",
   "metadata": {},
   "source": [
    "# Model Defintion"
   ]
  },
  {
   "cell_type": "code",
   "execution_count": 27,
   "id": "88dd89e5-385b-42cf-a1e3-6abf9adeb35e",
   "metadata": {},
   "outputs": [
    {
     "data": {
      "text/plain": [
       "0.14056088575980472"
      ]
     },
     "execution_count": 27,
     "metadata": {},
     "output_type": "execute_result"
    }
   ],
   "source": [
    "model_RFR = RandomForestRegressor(n_estimators=10)\n",
    "model_RFR.fit(X_train, Y_train)\n",
    "Y_pred = model_RFR.predict(X_valid)\n",
    "\n",
    "mean_absolute_percentage_error(Y_valid, Y_pred)"
   ]
  },
  {
   "cell_type": "code",
   "execution_count": 26,
   "id": "8d47a0a4-124a-4d6c-ba26-594304485a88",
   "metadata": {},
   "outputs": [
    {
     "name": "stdout",
     "output_type": "stream",
     "text": [
      "0.20634083205804407\n"
     ]
    }
   ],
   "source": [
    "model_LR = LinearRegression()\n",
    "model_LR.fit(X_train, Y_train)\n",
    "Y_pred = model_LR.predict(X_valid)"
   ]
  },
  {
   "cell_type": "markdown",
   "id": "5ff7c09b-7c86-4f83-b0ef-0f8bbe439ff1",
   "metadata": {},
   "source": [
    "# Reviwe"
   ]
  },
  {
   "cell_type": "code",
   "execution_count": null,
   "id": "11ab0bea-5565-4c2d-946d-1925eace6853",
   "metadata": {},
   "outputs": [],
   "source": [
    "print(mean_absolute_percentage_error(Y_valid, Y_pred))"
   ]
  }
 ],
 "metadata": {
  "kernelspec": {
   "display_name": "Python 3 (ipykernel)",
   "language": "python",
   "name": "python3"
  },
  "language_info": {
   "codemirror_mode": {
    "name": "ipython",
    "version": 3
   },
   "file_extension": ".py",
   "mimetype": "text/x-python",
   "name": "python",
   "nbconvert_exporter": "python",
   "pygments_lexer": "ipython3",
   "version": "3.13.5"
  }
 },
 "nbformat": 4,
 "nbformat_minor": 5
}
